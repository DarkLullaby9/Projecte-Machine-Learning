{
 "cells": [
  {
   "cell_type": "markdown",
   "id": "bf490fe6-1fc6-4898-93b7-9da4713bc353",
   "metadata": {},
   "source": [
    "# Ejercicios del Sprint 0"
   ]
  },
  {
   "cell_type": "markdown",
   "id": "d799f86f-73a1-4f8d-bd46-f4836eb338b3",
   "metadata": {},
   "source": [
    "### *Ejercicio 1*\n",
    "Instala el programa Anaconda con Python 3, y Jupyter Notebook."
   ]
  },
  {
   "cell_type": "markdown",
   "id": "79a23058-2bca-48ee-8a57-b8e6d154b667",
   "metadata": {},
   "source": [
    "### *Ejercicio 2*\n",
    "Crea un entorno virtual a Anaconda con el Nombre \"entorn_ML\" que contenga las librerias necesarias para ML.\n",
    "- NumPy\n",
    "- Pandas\n",
    "- Scikit-learn\n",
    "- Matplotlib\n",
    "- Seaborn\n",
    "- Streamlit"
   ]
  },
  {
   "cell_type": "markdown",
   "id": "5117a23a-c319-415e-b064-9ae79e2b2359",
   "metadata": {},
   "source": [
    "### *Ejercicio 3*\n",
    "Utilizando Jupyter Notebook ejecuta algunos calculos sencillos, a la vez que te familiarizas con el lenguaje Markdown."
   ]
  },
  {
   "cell_type": "markdown",
   "id": "38db924a-1f71-4876-804a-f59835a742a5",
   "metadata": {},
   "source": [
    "**Suma**"
   ]
  },
  {
   "cell_type": "code",
   "execution_count": 6,
   "id": "4f23ae88-08c4-45a3-9c04-0b61fe26000c",
   "metadata": {},
   "outputs": [
    {
     "data": {
      "text/plain": [
       "10"
      ]
     },
     "execution_count": 6,
     "metadata": {},
     "output_type": "execute_result"
    }
   ],
   "source": [
    "5 + 5"
   ]
  },
  {
   "cell_type": "markdown",
   "id": "0dffb1d9-0e27-49ca-95c9-9ed3e2d38618",
   "metadata": {},
   "source": [
    "**Resta**"
   ]
  },
  {
   "cell_type": "code",
   "execution_count": 7,
   "id": "7045aa51-0da5-46e1-a2b4-c6c009e8b8d6",
   "metadata": {},
   "outputs": [
    {
     "data": {
      "text/plain": [
       "0"
      ]
     },
     "execution_count": 7,
     "metadata": {},
     "output_type": "execute_result"
    }
   ],
   "source": [
    "5 - 5"
   ]
  },
  {
   "cell_type": "markdown",
   "id": "11ceed41-873b-4a3e-ab1a-36a63c30f7b4",
   "metadata": {},
   "source": [
    "**Multiplicacion**"
   ]
  },
  {
   "cell_type": "code",
   "execution_count": 8,
   "id": "8a7d8329-da53-40b6-b677-5cd993a9cb4e",
   "metadata": {},
   "outputs": [
    {
     "data": {
      "text/plain": [
       "10"
      ]
     },
     "execution_count": 8,
     "metadata": {},
     "output_type": "execute_result"
    }
   ],
   "source": [
    "5 * 2"
   ]
  },
  {
   "cell_type": "markdown",
   "id": "3eba5427-f0f8-4044-bd1a-cd4af4a58716",
   "metadata": {},
   "source": [
    "**Division**"
   ]
  },
  {
   "cell_type": "code",
   "execution_count": 9,
   "id": "c7ef2406-8909-48b9-b358-8ea3f3572ea5",
   "metadata": {},
   "outputs": [
    {
     "data": {
      "text/plain": [
       "5.0"
      ]
     },
     "execution_count": 9,
     "metadata": {},
     "output_type": "execute_result"
    }
   ],
   "source": [
    "10 / 2"
   ]
  },
  {
   "cell_type": "markdown",
   "id": "a18e8ae6-5f7a-49df-b5af-a043b14e16bb",
   "metadata": {},
   "source": [
    "### *Ejercicio 4*\n",
    "Prueba a crear titulos, listas, cambiar el *estilo* de la letra o añadir imagenes dentro del Notebook."
   ]
  },
  {
   "cell_type": "markdown",
   "id": "a0f3a6ca-1ec2-4aa4-acf0-70a5eafe0a7a",
   "metadata": {},
   "source": [
    "A continuación se muestra un [Link](https://itacademy.barcelonactiva.cat/ \"It Academy\")."
   ]
  },
  {
   "cell_type": "markdown",
   "id": "8f63ebf8-f8ff-4429-a252-03f88ec92627",
   "metadata": {},
   "source": [
    "![Logo It Academy](https://itacademy.barcelonactiva.cat/pluginfile.php/1/theme_remui/logo/1730269506/logo.png)"
   ]
  },
  {
   "cell_type": "markdown",
   "id": "cfdcc975-722d-4127-8ca0-3f4aa2cea345",
   "metadata": {},
   "source": [
    "### *Ejercicio 5*\n",
    "Crea un repositorio en GitHub con el nombre \"Projecte Machine Learning\""
   ]
  },
  {
   "cell_type": "markdown",
   "id": "732cab75-30d0-4077-a3a1-bba928b2bb08",
   "metadata": {},
   "source": [
    "### *Ejercicio 6*\n",
    "Sube el fichero de Jupyter Notebook a tu repositorio de GitHub"
   ]
  },
  {
   "cell_type": "code",
   "execution_count": null,
   "id": "8b826fa3-bb9e-4f24-8f1b-b5b2fa2d0600",
   "metadata": {},
   "outputs": [],
   "source": []
  }
 ],
 "metadata": {
  "kernelspec": {
   "display_name": "Python 3 (ipykernel)",
   "language": "python",
   "name": "python3"
  },
  "language_info": {
   "codemirror_mode": {
    "name": "ipython",
    "version": 3
   },
   "file_extension": ".py",
   "mimetype": "text/x-python",
   "name": "python",
   "nbconvert_exporter": "python",
   "pygments_lexer": "ipython3",
   "version": "3.12.7"
  }
 },
 "nbformat": 4,
 "nbformat_minor": 5
}
