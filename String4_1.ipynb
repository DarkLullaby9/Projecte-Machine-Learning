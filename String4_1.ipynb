{
 "cells": [
  {
   "cell_type": "markdown",
   "id": "98b4efbc-98a1-4c54-9a32-3208fea8ac8b",
   "metadata": {},
   "source": [
    "# Exercici 1. Consumir una API\n",
    "Selecciona una API pública i extreu dades utilitzant Python."
   ]
  },
  {
   "cell_type": "markdown",
   "id": "58b71616-7315-4d94-8f0c-8346705f7ec4",
   "metadata": {},
   "source": [
    "Instalar por consola la libreria requestss"
   ]
  },
  {
   "cell_type": "markdown",
   "id": "cc6548f6-9d11-4303-a418-57d882746cd3",
   "metadata": {},
   "source": [
    "pip install requests"
   ]
  },
  {
   "cell_type": "markdown",
   "id": "4a909f83-ea9e-42f1-9f34-fb45b8262286",
   "metadata": {},
   "source": [
    "Importar las librerias requests y json"
   ]
  },
  {
   "cell_type": "code",
   "execution_count": null,
   "id": "b937235d-205a-4a02-89bb-e2875e6265c1",
   "metadata": {},
   "outputs": [],
   "source": [
    "import requests\n",
    "import json"
   ]
  },
  {
   "cell_type": "markdown",
   "id": "57153a4e-f045-4ebe-999b-588b31aee275",
   "metadata": {},
   "source": [
    "Realizar una solicitud simple\r",
    " Utilizamos el metodo get de la libreria requests pasandole la url de la API# Nos da información de un personaje de El Señor de los Anillos, recogida en la API lotr-a\n",
    "\n",
    "# Pasamos la solicitud a tipo diccionario"
   ]
  },
  {
   "cell_type": "code",
   "execution_count": null,
   "id": "33f02ef9-3bad-48e6-9df9-a692256f7997",
   "metadata": {},
   "outputs": [],
   "source": [
    "url = 'https://lotrapi.co/api/v1/characters/1'\n",
    "r = requests.get(url)\n",
    "j = r.json()"
   ]
  },
  {
   "cell_type": "markdown",
   "id": "a172ed63-6150-4a29-aad8-4fe512042306",
   "metadata": {},
   "source": [
    "Imprime por pantalla la información"
   ]
  },
  {
   "cell_type": "code",
   "execution_count": null,
   "id": "10f60c38-dd94-4dfe-8846-b572533086c2",
   "metadata": {},
   "outputs": [],
   "source": [
    "print(j)"
   ]
  },
  {
   "cell_type": "markdown",
   "id": "200eb8da-afbc-4747-ba3b-cdbcc7b12447",
   "metadata": {},
   "source": [
    "Imprime las keys del diccionario para acceder mejor a la información"
   ]
  },
  {
   "cell_type": "code",
   "execution_count": null,
   "id": "d049c755-d5ea-438f-aacd-c4ed6522238e",
   "metadata": {},
   "outputs": [],
   "source": [
    "print(j.keys())"
   ]
  },
  {
   "cell_type": "markdown",
   "id": "a29abb24-c0e8-4ad5-8aac-3ace242d5ca3",
   "metadata": {},
   "source": [
    "Accedemos al nombre del personaje"
   ]
  },
  {
   "cell_type": "code",
   "execution_count": null,
   "id": "61c0c37d-441f-4877-8bcb-c5c3d6e57b2c",
   "metadata": {},
   "outputs": [],
   "source": [
    "name = j['name']\n",
    "print(name)"
   ]
  },
  {
   "cell_type": "markdown",
   "id": "1773106b-2a35-442d-8e0d-7fcf79ba0898",
   "metadata": {},
   "source": [
    "Accedemos al nombre de los 10 primeros personajes"
   ]
  },
  {
   "cell_type": "markdown",
   "id": "8c1b5993-47ca-4036-94d6-59fa12fd7e1f",
   "metadata": {},
   "source": [
    "Creamos un bucle while que se realizará mientras se cumpla la condición de i < 11"
   ]
  },
  {
   "cell_type": "code",
   "execution_count": null,
   "id": "8f22eae8-5a3c-4540-b64a-fa4f6842a123",
   "metadata": {},
   "outputs": [],
   "source": [
    "i = 1\n",
    "while i < 11:\n",
    "    url = 'https://lotrapi.co/api/v1/characters/{}'.format(i)\n",
    "    r = requests.get(url)\n",
    "    j = r.json()\n",
    "    name = j['name']\n",
    "    print('El personaje {} es: {}'.format(i,name))\n",
    "    i += 1"
   ]
  },
  {
   "cell_type": "code",
   "execution_count": null,
   "id": "ee96aca8-0da3-42fb-94ee-c6ed97f2bb1b",
   "metadata": {},
   "outputs": [],
   "source": []
  }
 ],
 "metadata": {
  "kernelspec": {
   "display_name": "Python 3 (ipykernel)",
   "language": "python",
   "name": "python3"
  },
  "language_info": {
   "codemirror_mode": {
    "name": "ipython",
    "version": 3
   },
   "file_extension": ".py",
   "mimetype": "text/x-python",
   "name": "python",
   "nbconvert_exporter": "python",
   "pygments_lexer": "ipython3",
   "version": "3.12.4"
  }
 },
 "nbformat": 4,
 "nbformat_minor": 5
}
